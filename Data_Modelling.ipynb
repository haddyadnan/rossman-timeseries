{
  "nbformat": 4,
  "nbformat_minor": 0,
  "metadata": {
    "colab": {
      "name": "Time-series Data Modelling.ipynb",
      "provenance": [],
      "collapsed_sections": []
    },
    "kernelspec": {
      "name": "python3",
      "display_name": "Python 3"
    }
  },
  "cells": [
    {
      "cell_type": "markdown",
      "metadata": {
        "id": "V7Ma6YnGZqg7",
        "colab_type": "text"
      },
      "source": [
        "# rossman pharmaceuticals\n",
        "\n",
        "## Contents\n",
        "* Libraries\n",
        "* Dataset\n",
        "* Preprocessing\n",
        "* Building models\n",
        "* Hyperparameter tuning\n",
        "* Post prediction analysis\n",
        "* Serialize models"
      ]
    },
    {
      "cell_type": "code",
      "metadata": {
        "id": "C73XJT9J5_C4",
        "colab_type": "code",
        "colab": {}
      },
      "source": [
        "#Import Needed libraries\n",
        "import numpy as np\n",
        "import pandas as pd\n",
        "import matplotlib.pyplot as plt\n",
        "import seaborn as sns\n",
        "sns.set()\n",
        "\n",
        "from hyperopt import hp, tpe\n",
        "from hyperopt.fmin import fmin\n",
        "import pickle\n",
        "\n",
        "from sklearn.model_selection import cross_val_score\n",
        "from sklearn.model_selection import TimeSeriesSplit\n",
        "from sklearn.pipeline import Pipeline\n",
        "from sklearn.impute import SimpleImputer\n",
        "from sklearn.preprocessing import StandardScaler, OneHotEncoder, QuantileTransformer\n",
        "from sklearn.compose import ColumnTransformer\n",
        "from sklearn.ensemble import RandomForestRegressor\n",
        "from sklearn.metrics import mean_squared_error\n",
        "\n",
        "import warnings\n",
        "warnings.filterwarnings('ignore')"
      ],
      "execution_count": null,
      "outputs": []
    },
    {
      "cell_type": "code",
      "metadata": {
        "id": "S92dsexF6YPa",
        "colab_type": "code",
        "colab": {}
      },
      "source": [
        "#Load data\n",
        "train = pd.read_csv(\"/content/drive/My Drive/rossmann-store-sales/train.csv\", low_memory= False)\n",
        "test = pd.read_csv(\"/content/drive/My Drive/rossmann-store-sales/test.csv\", low_memory= False)"
      ],
      "execution_count": null,
      "outputs": []
    },
    {
      "cell_type": "code",
      "metadata": {
        "id": "pQbUmVPM6dh_",
        "colab_type": "code",
        "colab": {}
      },
      "source": [
        "#Sanity check\n",
        "train['StateHoliday'].replace({0:'o','0':'o'},inplace=True)\n",
        "test['StateHoliday'].replace({'0':'o'},inplace=True)"
      ],
      "execution_count": null,
      "outputs": []
    },
    {
      "cell_type": "markdown",
      "metadata": {
        "id": "Rz4pbu7kh8wA",
        "colab_type": "text"
      },
      "source": [
        "The data appears to be in most recent form aaccording to the date hece we sort"
      ]
    },
    {
      "cell_type": "code",
      "metadata": {
        "id": "OwxrmqOz6m3G",
        "colab_type": "code",
        "colab": {}
      },
      "source": [
        "#sort values\n",
        "train = train.sort_values(by= 'Date', ascending= True).reset_index(drop = True)"
      ],
      "execution_count": null,
      "outputs": []
    },
    {
      "cell_type": "code",
      "metadata": {
        "id": "RqqbGDNI7Cx2",
        "colab_type": "code",
        "colab": {}
      },
      "source": [
        "# target = train.Sales\n",
        "# train = train.drop(['Sales', 'Customers'], axis = 1)"
      ],
      "execution_count": null,
      "outputs": []
    },
    {
      "cell_type": "code",
      "metadata": {
        "id": "itNrQhO47Rrk",
        "colab_type": "code",
        "colab": {}
      },
      "source": [
        "train['Date'] = pd.to_datetime(train.Date)\n",
        "test['Date'] = pd.to_datetime(test.Date)"
      ],
      "execution_count": null,
      "outputs": []
    },
    {
      "cell_type": "code",
      "metadata": {
        "id": "f5fgbZ_D7Yki",
        "colab_type": "code",
        "colab": {}
      },
      "source": [
        "#Engineer features\n",
        "train['year'] = train.Date.apply(lambda x: x.year )\n",
        "train['month'] = train.Date.apply(lambda x: x.month)\n",
        "train['dow'] = train.Date.apply(lambda x: x.dayofweek )\n",
        "# train['day_name'] = train.Date.apply(lambda x: x.day_name() )\n",
        "# train['month_name'] = train.Date.apply(lambda x: x.month_name() )\n",
        "train['doy'] = train.Date.apply(lambda x: x.dayofyear )\n",
        "train['quarter'] = train.Date.apply(lambda x: x.quarter )\n",
        "train['month_start'] = train.Date.apply(lambda x: 1 if x.is_month_start else 0)\n",
        "train['month_end'] = train.Date.apply(lambda x: 1 if x.is_month_end else 0 )\n",
        "train['is_weekend'] = train.dow.apply(lambda x: 1 if x < 5 else 0)\n",
        "train['dom'] = train.Date.apply(lambda x: x.day)\n",
        "train['evenDays'] = train.dom.apply(lambda x: 0 if x%2 else 1)\n",
        "\n",
        "\n",
        "test['year'] = test.Date.apply(lambda x: x.year )\n",
        "test['month'] = test.Date.apply(lambda x: x.month)\n",
        "test['dow'] = test.Date.apply(lambda x: x.dayofweek )\n",
        "test['doy'] = test.Date.apply(lambda x: x.dayofyear )\n",
        "test['quarter'] = test.Date.apply(lambda x: x.quarter )\n",
        "test['month_start'] = test.Date.apply(lambda x: x.is_month_start )\n",
        "test['month_end'] = test.Date.apply(lambda x: x.is_month_end )\n",
        "test['is_weekend'] = test.dow.apply(lambda x: 1 if x < 5 else 0)\n",
        "test['dom'] = test.Date.apply(lambda x: x.day)\n",
        "test['evenDays'] = test.dom.apply(lambda x: 0 if x%2 else 1)"
      ],
      "execution_count": null,
      "outputs": []
    },
    {
      "cell_type": "code",
      "metadata": {
        "id": "TZEniY9A7dqM",
        "colab_type": "code",
        "colab": {}
      },
      "source": [
        "test.drop(['Id','dom'],axis=1, inplace=True)"
      ],
      "execution_count": null,
      "outputs": []
    },
    {
      "cell_type": "code",
      "metadata": {
        "id": "dpPDcH6a7eAl",
        "colab_type": "code",
        "colab": {}
      },
      "source": [
        "train.drop(['dom'], axis = 1, inplace = True)"
      ],
      "execution_count": null,
      "outputs": []
    },
    {
      "cell_type": "code",
      "metadata": {
        "id": "4CKVHP6r9bdJ",
        "colab_type": "code",
        "colab": {
          "base_uri": "https://localhost:8080/",
          "height": 34
        },
        "outputId": "0852800a-c1cf-4897-fd45-4d515bd913b7"
      },
      "source": [
        "train.shape, test.shape"
      ],
      "execution_count": null,
      "outputs": [
        {
          "output_type": "execute_result",
          "data": {
            "text/plain": [
              "((1017209, 18), (41088, 16))"
            ]
          },
          "metadata": {
            "tags": []
          },
          "execution_count": 144
        }
      ]
    },
    {
      "cell_type": "code",
      "metadata": {
        "id": "0TiGwhjGjMdy",
        "colab_type": "code",
        "colab": {}
      },
      "source": [
        ""
      ],
      "execution_count": null,
      "outputs": []
    },
    {
      "cell_type": "code",
      "metadata": {
        "id": "NLWHmr8M6ry5",
        "colab_type": "code",
        "colab": {}
      },
      "source": [
        "#split into train and test set\n",
        "X_train = train[train.Date < '2015-05-01']\n",
        "X_test = train[train.Date > '2015-04-30']"
      ],
      "execution_count": null,
      "outputs": []
    },
    {
      "cell_type": "code",
      "metadata": {
        "id": "nI2OZpQ991EU",
        "colab_type": "code",
        "colab": {
          "base_uri": "https://localhost:8080/",
          "height": 34
        },
        "outputId": "b9479d8f-c47d-4496-9e04-926775b85a6d"
      },
      "source": [
        "X_train.shape, X_test.shape, test.shape"
      ],
      "execution_count": null,
      "outputs": [
        {
          "output_type": "execute_result",
          "data": {
            "text/plain": [
              "((914629, 18), (102580, 18), (41088, 16))"
            ]
          },
          "metadata": {
            "tags": []
          },
          "execution_count": 146
        }
      ]
    },
    {
      "cell_type": "code",
      "metadata": {
        "id": "bPug-U9G-sFL",
        "colab_type": "code",
        "colab": {}
      },
      "source": [
        "y_train = X_train.Sales\n",
        "y_test = X_test.Sales"
      ],
      "execution_count": null,
      "outputs": []
    },
    {
      "cell_type": "code",
      "metadata": {
        "id": "REMIs0lQ-8Zy",
        "colab_type": "code",
        "colab": {
          "base_uri": "https://localhost:8080/",
          "height": 299
        },
        "outputId": "42b89523-ebad-477f-ec6f-35774cdc6618"
      },
      "source": [
        "X_train.head()"
      ],
      "execution_count": null,
      "outputs": [
        {
          "output_type": "execute_result",
          "data": {
            "text/html": [
              "<div>\n",
              "<style scoped>\n",
              "    .dataframe tbody tr th:only-of-type {\n",
              "        vertical-align: middle;\n",
              "    }\n",
              "\n",
              "    .dataframe tbody tr th {\n",
              "        vertical-align: top;\n",
              "    }\n",
              "\n",
              "    .dataframe thead th {\n",
              "        text-align: right;\n",
              "    }\n",
              "</style>\n",
              "<table border=\"1\" class=\"dataframe\">\n",
              "  <thead>\n",
              "    <tr style=\"text-align: right;\">\n",
              "      <th></th>\n",
              "      <th>Store</th>\n",
              "      <th>DayOfWeek</th>\n",
              "      <th>Date</th>\n",
              "      <th>Sales</th>\n",
              "      <th>Customers</th>\n",
              "      <th>Open</th>\n",
              "      <th>Promo</th>\n",
              "      <th>StateHoliday</th>\n",
              "      <th>SchoolHoliday</th>\n",
              "      <th>year</th>\n",
              "      <th>month</th>\n",
              "      <th>dow</th>\n",
              "      <th>doy</th>\n",
              "      <th>quarter</th>\n",
              "      <th>month_start</th>\n",
              "      <th>month_end</th>\n",
              "      <th>is_weekend</th>\n",
              "      <th>evenDays</th>\n",
              "    </tr>\n",
              "  </thead>\n",
              "  <tbody>\n",
              "    <tr>\n",
              "      <th>0</th>\n",
              "      <td>1115</td>\n",
              "      <td>2</td>\n",
              "      <td>2013-01-01</td>\n",
              "      <td>0</td>\n",
              "      <td>0</td>\n",
              "      <td>0</td>\n",
              "      <td>0</td>\n",
              "      <td>a</td>\n",
              "      <td>1</td>\n",
              "      <td>2013</td>\n",
              "      <td>1</td>\n",
              "      <td>1</td>\n",
              "      <td>1</td>\n",
              "      <td>1</td>\n",
              "      <td>1</td>\n",
              "      <td>0</td>\n",
              "      <td>1</td>\n",
              "      <td>0</td>\n",
              "    </tr>\n",
              "    <tr>\n",
              "      <th>1</th>\n",
              "      <td>379</td>\n",
              "      <td>2</td>\n",
              "      <td>2013-01-01</td>\n",
              "      <td>0</td>\n",
              "      <td>0</td>\n",
              "      <td>0</td>\n",
              "      <td>0</td>\n",
              "      <td>a</td>\n",
              "      <td>1</td>\n",
              "      <td>2013</td>\n",
              "      <td>1</td>\n",
              "      <td>1</td>\n",
              "      <td>1</td>\n",
              "      <td>1</td>\n",
              "      <td>1</td>\n",
              "      <td>0</td>\n",
              "      <td>1</td>\n",
              "      <td>0</td>\n",
              "    </tr>\n",
              "    <tr>\n",
              "      <th>2</th>\n",
              "      <td>378</td>\n",
              "      <td>2</td>\n",
              "      <td>2013-01-01</td>\n",
              "      <td>0</td>\n",
              "      <td>0</td>\n",
              "      <td>0</td>\n",
              "      <td>0</td>\n",
              "      <td>a</td>\n",
              "      <td>1</td>\n",
              "      <td>2013</td>\n",
              "      <td>1</td>\n",
              "      <td>1</td>\n",
              "      <td>1</td>\n",
              "      <td>1</td>\n",
              "      <td>1</td>\n",
              "      <td>0</td>\n",
              "      <td>1</td>\n",
              "      <td>0</td>\n",
              "    </tr>\n",
              "    <tr>\n",
              "      <th>3</th>\n",
              "      <td>377</td>\n",
              "      <td>2</td>\n",
              "      <td>2013-01-01</td>\n",
              "      <td>0</td>\n",
              "      <td>0</td>\n",
              "      <td>0</td>\n",
              "      <td>0</td>\n",
              "      <td>a</td>\n",
              "      <td>1</td>\n",
              "      <td>2013</td>\n",
              "      <td>1</td>\n",
              "      <td>1</td>\n",
              "      <td>1</td>\n",
              "      <td>1</td>\n",
              "      <td>1</td>\n",
              "      <td>0</td>\n",
              "      <td>1</td>\n",
              "      <td>0</td>\n",
              "    </tr>\n",
              "    <tr>\n",
              "      <th>4</th>\n",
              "      <td>376</td>\n",
              "      <td>2</td>\n",
              "      <td>2013-01-01</td>\n",
              "      <td>0</td>\n",
              "      <td>0</td>\n",
              "      <td>0</td>\n",
              "      <td>0</td>\n",
              "      <td>a</td>\n",
              "      <td>1</td>\n",
              "      <td>2013</td>\n",
              "      <td>1</td>\n",
              "      <td>1</td>\n",
              "      <td>1</td>\n",
              "      <td>1</td>\n",
              "      <td>1</td>\n",
              "      <td>0</td>\n",
              "      <td>1</td>\n",
              "      <td>0</td>\n",
              "    </tr>\n",
              "  </tbody>\n",
              "</table>\n",
              "</div>"
            ],
            "text/plain": [
              "   Store  DayOfWeek       Date  ...  month_end  is_weekend  evenDays\n",
              "0   1115          2 2013-01-01  ...          0           1         0\n",
              "1    379          2 2013-01-01  ...          0           1         0\n",
              "2    378          2 2013-01-01  ...          0           1         0\n",
              "3    377          2 2013-01-01  ...          0           1         0\n",
              "4    376          2 2013-01-01  ...          0           1         0\n",
              "\n",
              "[5 rows x 18 columns]"
            ]
          },
          "metadata": {
            "tags": []
          },
          "execution_count": 148
        }
      ]
    },
    {
      "cell_type": "code",
      "metadata": {
        "id": "VNM96Ph1-2fK",
        "colab_type": "code",
        "colab": {}
      },
      "source": [
        "d = ['Sales', 'Customers', 'Date']\n",
        "X_train.drop(d, axis=1, inplace=True)\n",
        "X_test.drop(d, axis = 1, inplace=True)"
      ],
      "execution_count": null,
      "outputs": []
    },
    {
      "cell_type": "markdown",
      "metadata": {
        "id": "5IkT0bIelCWh",
        "colab_type": "text"
      },
      "source": [
        "Define preprocessing steps"
      ]
    },
    {
      "cell_type": "code",
      "metadata": {
        "id": "XeMm7_TS_fAf",
        "colab_type": "code",
        "colab": {}
      },
      "source": [
        "#Pipeline to transform numeric columns\n",
        "numeric_transformer = Pipeline(steps=[\n",
        "    ('imputer', SimpleImputer(strategy='median')),\n",
        "    ('scaler', StandardScaler()),\n",
        "  ('Quantile_norm', QuantileTransformer(output_distribution='normal'))])\n",
        "\n",
        "#Pipeline to transform categorical columns\n",
        "categorical_transformer = Pipeline(steps=[\n",
        "    ('imputer', SimpleImputer(strategy='most_frequent')),\n",
        "    ('onehot', OneHotEncoder(handle_unknown='ignore'))])"
      ],
      "execution_count": null,
      "outputs": []
    },
    {
      "cell_type": "code",
      "metadata": {
        "id": "1nEML4dC_t1i",
        "colab_type": "code",
        "colab": {}
      },
      "source": [
        "#Get numeric columns\n",
        "numeric_features = X_train._get_numeric_data().columns\n",
        "categorical_features = X_train.select_dtypes(include=['object']).columns"
      ],
      "execution_count": null,
      "outputs": []
    },
    {
      "cell_type": "code",
      "metadata": {
        "id": "30ZRyjza_3ie",
        "colab_type": "code",
        "colab": {}
      },
      "source": [
        "#Apply column transform\n",
        "preprocessor = ColumnTransformer(\n",
        "    transformers=[\n",
        "        ('num', numeric_transformer, numeric_features),\n",
        "        ('cat', categorical_transformer, categorical_features)])"
      ],
      "execution_count": null,
      "outputs": []
    },
    {
      "cell_type": "markdown",
      "metadata": {
        "id": "ZlTcWbk-ZsMZ",
        "colab_type": "text"
      },
      "source": [
        "Import regressors"
      ]
    },
    {
      "cell_type": "code",
      "metadata": {
        "id": "rniAJdjw_9a7",
        "colab_type": "code",
        "colab": {}
      },
      "source": [
        "from lightgbm import LGBMRegressor\n",
        "from xgboost import XGBRegressor"
      ],
      "execution_count": null,
      "outputs": []
    },
    {
      "cell_type": "code",
      "metadata": {
        "id": "y2FduW35APUo",
        "colab_type": "code",
        "colab": {}
      },
      "source": [
        "regressors = [\n",
        "              ('LGBM', LGBMRegressor(use_best_model = True, n_estimators=1000)),\n",
        "              ('XGB', XGBRegressor(n_estimators=1000, use_best_model =True)),\n",
        "            ]"
      ],
      "execution_count": null,
      "outputs": []
    },
    {
      "cell_type": "markdown",
      "metadata": {
        "id": "DNLV9DRj_Q7b",
        "colab_type": "text"
      },
      "source": [
        "define some useful functions"
      ]
    },
    {
      "cell_type": "code",
      "metadata": {
        "id": "WKYMJbAZAWmY",
        "colab_type": "code",
        "colab": {}
      },
      "source": [
        "def rmse(y_true, y_pred):\n",
        "  return mean_squared_error(y_true, y_pred)**0.5\n",
        "\n",
        "def train_fit(X_train, X_test, y_train, y_test, regressor):\n",
        "\n",
        "  #initialize model\n",
        "  model = Pipeline(steps=[('preprocessor', preprocessor),\n",
        "                      ('regressor', regressor)])\n",
        "  \n",
        "  #slice the pipeline to obtain the transform\n",
        "  pipe_temp = Pipeline(model.steps[:-1])\n",
        "\n",
        "  #apply the transform on train set\n",
        "  X_trans = pipe_temp.fit_transform(X_train,y_train)\n",
        "\n",
        "  #apply transform on eval set\n",
        "  eval_set = [(X_trans, y_train), (pipe_temp.transform(X_test), y_test)]\n",
        "\n",
        "  #append regressor\n",
        "  pipe_temp.steps.append(model.steps[-1])\n",
        "\n",
        "  #fit model\n",
        "  pipe_temp.fit(X_train, y_train,\n",
        "             regressor__eval_set = eval_set,\n",
        "              regressor__eval_metric = 'rmse',\n",
        "             regressor__early_stopping_rounds = 100,\n",
        "              regressor__verbose= False)\n",
        "  return pipe_temp"
      ],
      "execution_count": null,
      "outputs": []
    },
    {
      "cell_type": "code",
      "metadata": {
        "id": "Di9rwdz2Abco",
        "colab_type": "code",
        "colab": {
          "base_uri": "https://localhost:8080/",
          "height": 168
        },
        "outputId": "304da54a-0315-47aa-84b8-7037d731e500"
      },
      "source": [
        "f= {}\n",
        "for label, regressor in regressors:\n",
        "\n",
        "    pipe_temp = train_fit(X_train, X_test, y_train, y_test, regressor)\n",
        "    \n",
        "    print(label)\n",
        "    print(\"Test score: %.3f\" % rmse(y_test, pipe_temp.predict(X_test)))\n",
        "    print(\"Train score: %.3f\" % rmse(y_train, pipe_temp.predict(X_train)))\n",
        "    print()\n",
        "    f[label] = rmse(y_test, model.predict(X_test))"
      ],
      "execution_count": null,
      "outputs": [
        {
          "output_type": "stream",
          "text": [
            "LGBM\n",
            "Test score: 2367.780\n",
            "Train score: 2324.348\n",
            "\n",
            "[02:39:44] WARNING: /workspace/src/objective/regression_obj.cu:152: reg:linear is now deprecated in favor of reg:squarederror.\n",
            "XGB\n",
            "Test score: 2101.835\n",
            "Train score: 2047.483\n",
            "\n"
          ],
          "name": "stdout"
        }
      ]
    },
    {
      "cell_type": "markdown",
      "metadata": {
        "id": "T_wqZvQfX5bJ",
        "colab_type": "text"
      },
      "source": [
        "Hyperparameter tuning"
      ]
    },
    {
      "cell_type": "code",
      "metadata": {
        "id": "oOelUVoeBhlC",
        "colab_type": "code",
        "colab": {}
      },
      "source": [
        "def objective_xgb(params):\n",
        "\n",
        "    #set parameters to tune\n",
        "    params = {\n",
        "        'max_depth': int(params['max_depth']),\n",
        "        'gamma': \"{:.3f}\".format(params['gamma']),\n",
        "        'learning_rate': \"{:.3f}\".format(params['learning_rate']),\n",
        "        'colsample_bytree': '{:.3f}'.format(params['colsample_bytree']),\n",
        "    }\n",
        "    \n",
        "    #fit model with parameters\n",
        "    reg_xgb = Pipeline(steps=[('preprocessor', preprocessor),\n",
        "                      ('regressor', XGBRegressor(random_state=23, **params, n_estimators=300))])\n",
        "    #get cv score\n",
        "    score = ( -1 * cross_val_score(reg_xgb, X_train, y_train, scoring='neg_root_mean_squared_error')).mean()\n",
        "    print(\"error {:.3f} params {}\".format(score, params))\n",
        "    return score\n",
        "#set space\n",
        "space_xgb = {\n",
        "    'max_depth': hp.quniform('max_depth', 2, 8, 1),\n",
        "    'colsample_bytree': hp.uniform('colsample_bytree', 0.3, 1.0),\n",
        "    'gamma': hp.uniform('gamma', 0.0, 0.5),\n",
        "    'learning_rate': hp.uniform('learning_rate', 0.01, 0.5)\n",
        "}\n",
        "\n",
        "def objective_lgb(params):\n",
        "    #set parameters to tune\n",
        "    params = {\n",
        "        'num_leaves': int(params['num_leaves']),\n",
        "        'colsample_bytree': '{:.3f}'.format(params['colsample_bytree']),\n",
        "    }\n",
        "    \n",
        "    #fit model with parameters\n",
        "    reg_lgb = Pipeline(steps=[('preprocessor', preprocessor),\n",
        "                      ('regressor', LGBMRegressor(random_state=23, **params, n_estimators=5000))])\n",
        "    #get cv score\n",
        "    score = ( -1 * cross_val_score(reg_lgb, X_train, y_train, scoring='neg_root_mean_squared_error')).mean()\n",
        "    print(\"error {:.3f} params {}\".format(score, params))\n",
        "    return score\n",
        "#set space\n",
        "space = {\n",
        "    'num_leaves': hp.quniform('num_leaves', 8, 128, 2),\n",
        "    'colsample_bytree': hp.uniform('colsample_bytree', 0.3, 1.0),\n",
        "   \n",
        "}"
      ],
      "execution_count": null,
      "outputs": []
    },
    {
      "cell_type": "code",
      "metadata": {
        "id": "bHofMlUWCHA0",
        "colab_type": "code",
        "colab": {
          "base_uri": "https://localhost:8080/",
          "height": 1000
        },
        "outputId": "1110e0a5-a228-47e4-8235-19e8c908762e"
      },
      "source": [
        "best_xgb = fmin(fn=objective_xgb,\n",
        "            space=space_xgb,\n",
        "            algo=tpe.suggest,\n",
        "            max_evals=10)"
      ],
      "execution_count": null,
      "outputs": [
        {
          "output_type": "stream",
          "text": [
            "[09:10:45] WARNING: /workspace/src/objective/regression_obj.cu:152: reg:linear is now deprecated in favor of reg:squarederror.\n",
            "[09:13:32] WARNING: /workspace/src/objective/regression_obj.cu:152: reg:linear is now deprecated in favor of reg:squarederror.\n",
            "[09:16:15] WARNING: /workspace/src/objective/regression_obj.cu:152: reg:linear is now deprecated in favor of reg:squarederror.\n",
            "[09:18:58] WARNING: /workspace/src/objective/regression_obj.cu:152: reg:linear is now deprecated in favor of reg:squarederror.\n",
            "[09:21:43] WARNING: /workspace/src/objective/regression_obj.cu:152: reg:linear is now deprecated in favor of reg:squarederror.\n",
            "error 1827.469 params {'max_depth': 6, 'gamma': '0.095', 'learning_rate': '0.166', 'colsample_bytree': '0.313'}\n",
            "[09:24:25] WARNING: /workspace/src/objective/regression_obj.cu:152: reg:linear is now deprecated in favor of reg:squarederror.\n",
            "[09:26:35] WARNING: /workspace/src/objective/regression_obj.cu:152: reg:linear is now deprecated in favor of reg:squarederror.\n",
            "[09:28:47] WARNING: /workspace/src/objective/regression_obj.cu:152: reg:linear is now deprecated in favor of reg:squarederror.\n",
            "[09:30:58] WARNING: /workspace/src/objective/regression_obj.cu:152: reg:linear is now deprecated in favor of reg:squarederror.\n",
            "[09:33:14] WARNING: /workspace/src/objective/regression_obj.cu:152: reg:linear is now deprecated in favor of reg:squarederror.\n",
            "error 2212.937 params {'max_depth': 4, 'gamma': '0.419', 'learning_rate': '0.091', 'colsample_bytree': '0.306'}\n",
            "[09:35:29] WARNING: /workspace/src/objective/regression_obj.cu:152: reg:linear is now deprecated in favor of reg:squarederror.\n",
            "[09:37:59] WARNING: /workspace/src/objective/regression_obj.cu:152: reg:linear is now deprecated in favor of reg:squarederror.\n",
            "[09:40:25] WARNING: /workspace/src/objective/regression_obj.cu:152: reg:linear is now deprecated in favor of reg:squarederror.\n",
            "[09:42:55] WARNING: /workspace/src/objective/regression_obj.cu:152: reg:linear is now deprecated in favor of reg:squarederror.\n",
            "[09:45:20] WARNING: /workspace/src/objective/regression_obj.cu:152: reg:linear is now deprecated in favor of reg:squarederror.\n",
            "error 2130.047 params {'max_depth': 4, 'gamma': '0.247', 'learning_rate': '0.092', 'colsample_bytree': '0.398'}\n",
            "[09:47:46] WARNING: /workspace/src/objective/regression_obj.cu:152: reg:linear is now deprecated in favor of reg:squarederror.\n",
            "[09:49:52] WARNING: /workspace/src/objective/regression_obj.cu:152: reg:linear is now deprecated in favor of reg:squarederror.\n",
            "[09:51:57] WARNING: /workspace/src/objective/regression_obj.cu:152: reg:linear is now deprecated in favor of reg:squarederror.\n",
            "[09:54:02] WARNING: /workspace/src/objective/regression_obj.cu:152: reg:linear is now deprecated in favor of reg:squarederror.\n",
            "[09:56:04] WARNING: /workspace/src/objective/regression_obj.cu:152: reg:linear is now deprecated in favor of reg:squarederror.\n",
            "error 1912.986 params {'max_depth': 2, 'gamma': '0.335', 'learning_rate': '0.466', 'colsample_bytree': '0.752'}\n",
            "[09:58:15] WARNING: /workspace/src/objective/regression_obj.cu:152: reg:linear is now deprecated in favor of reg:squarederror.\n",
            "[10:04:23] WARNING: /workspace/src/objective/regression_obj.cu:152: reg:linear is now deprecated in favor of reg:squarederror.\n",
            "[10:10:20] WARNING: /workspace/src/objective/regression_obj.cu:152: reg:linear is now deprecated in favor of reg:squarederror.\n",
            "[10:16:59] WARNING: /workspace/src/objective/regression_obj.cu:152: reg:linear is now deprecated in favor of reg:squarederror.\n",
            "[10:23:04] WARNING: /workspace/src/objective/regression_obj.cu:152: reg:linear is now deprecated in favor of reg:squarederror.\n",
            "error 1104.819 params {'max_depth': 8, 'gamma': '0.145', 'learning_rate': '0.268', 'colsample_bytree': '0.914'}\n",
            "[10:29:42] WARNING: /workspace/src/objective/regression_obj.cu:152: reg:linear is now deprecated in favor of reg:squarederror.\n",
            "[10:32:33] WARNING: /workspace/src/objective/regression_obj.cu:152: reg:linear is now deprecated in favor of reg:squarederror.\n",
            "[10:35:22] WARNING: /workspace/src/objective/regression_obj.cu:152: reg:linear is now deprecated in favor of reg:squarederror.\n",
            "[10:38:07] WARNING: /workspace/src/objective/regression_obj.cu:152: reg:linear is now deprecated in favor of reg:squarederror.\n",
            "[10:41:01] WARNING: /workspace/src/objective/regression_obj.cu:152: reg:linear is now deprecated in favor of reg:squarederror.\n",
            "error 1930.207 params {'max_depth': 3, 'gamma': '0.477', 'learning_rate': '0.180', 'colsample_bytree': '0.863'}\n",
            "[10:43:41] WARNING: /workspace/src/objective/regression_obj.cu:152: reg:linear is now deprecated in favor of reg:squarederror.\n",
            "[10:50:03] WARNING: /workspace/src/objective/regression_obj.cu:152: reg:linear is now deprecated in favor of reg:squarederror.\n",
            "[10:56:09] WARNING: /workspace/src/objective/regression_obj.cu:152: reg:linear is now deprecated in favor of reg:squarederror.\n",
            "[11:02:07] WARNING: /workspace/src/objective/regression_obj.cu:152: reg:linear is now deprecated in favor of reg:squarederror.\n",
            "[11:08:14] WARNING: /workspace/src/objective/regression_obj.cu:152: reg:linear is now deprecated in favor of reg:squarederror.\n",
            "error 1124.132 params {'max_depth': 8, 'gamma': '0.018', 'learning_rate': '0.362', 'colsample_bytree': '0.929'}\n",
            "[11:14:24] WARNING: /workspace/src/objective/regression_obj.cu:152: reg:linear is now deprecated in favor of reg:squarederror.\n",
            "[11:17:51] WARNING: /workspace/src/objective/regression_obj.cu:152: reg:linear is now deprecated in favor of reg:squarederror.\n",
            "[11:21:31] WARNING: /workspace/src/objective/regression_obj.cu:152: reg:linear is now deprecated in favor of reg:squarederror.\n",
            "[11:24:56] WARNING: /workspace/src/objective/regression_obj.cu:152: reg:linear is now deprecated in favor of reg:squarederror.\n",
            "[11:28:10] WARNING: /workspace/src/objective/regression_obj.cu:152: reg:linear is now deprecated in favor of reg:squarederror.\n",
            "error 1293.753 params {'max_depth': 5, 'gamma': '0.251', 'learning_rate': '0.438', 'colsample_bytree': '0.669'}\n",
            "[11:31:27] WARNING: /workspace/src/objective/regression_obj.cu:152: reg:linear is now deprecated in favor of reg:squarederror.\n",
            "[11:33:43] WARNING: /workspace/src/objective/regression_obj.cu:152: reg:linear is now deprecated in favor of reg:squarederror.\n",
            "[11:36:00] WARNING: /workspace/src/objective/regression_obj.cu:152: reg:linear is now deprecated in favor of reg:squarederror.\n",
            "[11:38:21] WARNING: /workspace/src/objective/regression_obj.cu:152: reg:linear is now deprecated in favor of reg:squarederror.\n",
            "[11:40:40] WARNING: /workspace/src/objective/regression_obj.cu:152: reg:linear is now deprecated in favor of reg:squarederror.\n",
            "error 2086.130 params {'max_depth': 3, 'gamma': '0.375', 'learning_rate': '0.158', 'colsample_bytree': '0.534'}\n",
            "[11:42:59] WARNING: /workspace/src/objective/regression_obj.cu:152: reg:linear is now deprecated in favor of reg:squarederror.\n",
            "[11:45:31] WARNING: /workspace/src/objective/regression_obj.cu:152: reg:linear is now deprecated in favor of reg:squarederror.\n",
            "[11:47:58] WARNING: /workspace/src/objective/regression_obj.cu:152: reg:linear is now deprecated in favor of reg:squarederror.\n",
            "[11:50:26] WARNING: /workspace/src/objective/regression_obj.cu:152: reg:linear is now deprecated in favor of reg:squarederror.\n",
            "[11:52:53] WARNING: /workspace/src/objective/regression_obj.cu:152: reg:linear is now deprecated in favor of reg:squarederror.\n",
            "error 1681.783 params {'max_depth': 4, 'gamma': '0.017', 'learning_rate': '0.350', 'colsample_bytree': '0.423'}\n",
            "100%|██████████| 10/10 [2:44:33<00:00, 987.34s/it, best loss: 1104.818804071593]\n"
          ],
          "name": "stdout"
        }
      ]
    },
    {
      "cell_type": "code",
      "metadata": {
        "id": "GTdgLCAWCO_D",
        "colab_type": "code",
        "colab": {
          "base_uri": "https://localhost:8080/",
          "height": 202
        },
        "outputId": "74c60c4c-89ac-4fbc-b6a6-54c8af057cbe"
      },
      "source": [
        "best_lgb = fmin(fn=objective_lgb,\n",
        "            space=space,\n",
        "            algo=tpe.suggest,\n",
        "            max_evals=10)"
      ],
      "execution_count": null,
      "outputs": [
        {
          "output_type": "stream",
          "text": [
            "error 2274.898 params {'num_leaves': 104, 'colsample_bytree': '0.941'}\n",
            "error 2256.098 params {'num_leaves': 54, 'colsample_bytree': '0.942'}\n",
            "error 2256.727 params {'num_leaves': 66, 'colsample_bytree': '0.666'}\n",
            "error 2273.219 params {'num_leaves': 126, 'colsample_bytree': '0.668'}\n",
            "error 2242.708 params {'num_leaves': 22, 'colsample_bytree': '0.869'}\n",
            "error 2260.408 params {'num_leaves': 120, 'colsample_bytree': '0.607'}\n",
            "error 2270.510 params {'num_leaves': 112, 'colsample_bytree': '0.664'}\n",
            "error 2265.565 params {'num_leaves': 114, 'colsample_bytree': '0.769'}\n",
            "error 2257.416 params {'num_leaves': 88, 'colsample_bytree': '0.938'}\n",
            "error 2267.470 params {'num_leaves': 108, 'colsample_bytree': '0.523'}\n",
            "100%|██████████| 10/10 [5:52:06<00:00, 2112.62s/it, best loss: 2242.7081048988466]\n"
          ],
          "name": "stdout"
        }
      ]
    },
    {
      "cell_type": "code",
      "metadata": {
        "id": "jxwYsDqNCWq4",
        "colab_type": "code",
        "colab": {
          "base_uri": "https://localhost:8080/",
          "height": 34
        },
        "outputId": "873fa293-39ab-4e44-c1d5-89ee62461fe7"
      },
      "source": [
        "best_lgb"
      ],
      "execution_count": null,
      "outputs": [
        {
          "output_type": "execute_result",
          "data": {
            "text/plain": [
              "{'colsample_bytree': 0.8686865471599106, 'num_leaves': 22.0}"
            ]
          },
          "metadata": {
            "tags": []
          },
          "execution_count": 53
        }
      ]
    },
    {
      "cell_type": "code",
      "metadata": {
        "id": "5usaEGz-CzQK",
        "colab_type": "code",
        "colab": {
          "base_uri": "https://localhost:8080/",
          "height": 84
        },
        "outputId": "d3e0db82-85ac-4f6a-96a6-0d77f3d6dd5c"
      },
      "source": [
        "best_xgb"
      ],
      "execution_count": null,
      "outputs": [
        {
          "output_type": "execute_result",
          "data": {
            "text/plain": [
              "{'colsample_bytree': 0.9140294253685348,\n",
              " 'gamma': 0.14545586998361132,\n",
              " 'learning_rate': 0.2678585631235746,\n",
              " 'max_depth': 8.0}"
            ]
          },
          "metadata": {
            "tags": []
          },
          "execution_count": 59
        }
      ]
    },
    {
      "cell_type": "code",
      "metadata": {
        "id": "H_70ulvJBm9q",
        "colab_type": "code",
        "colab": {
          "base_uri": "https://localhost:8080/",
          "height": 101
        },
        "outputId": "936cece0-11f6-48ad-c5d8-f4c63691666b"
      },
      "source": [
        "best_xgb['max_depth'] = 8; best_lgb['num_leaves'] = 22 ; best_xgb, best_lgb"
      ],
      "execution_count": null,
      "outputs": [
        {
          "output_type": "execute_result",
          "data": {
            "text/plain": [
              "({'colsample_bytree': 0.9140294253685348,\n",
              "  'gamma': 0.14545586998361132,\n",
              "  'learning_rate': 0.2678585631235746,\n",
              "  'max_depth': 8},\n",
              " {'colsample_bytree': 0.8686865471599106, 'num_leaves': 22})"
            ]
          },
          "metadata": {
            "tags": []
          },
          "execution_count": 72
        }
      ]
    },
    {
      "cell_type": "code",
      "metadata": {
        "id": "FOhCW2QPYCW8",
        "colab_type": "code",
        "colab": {}
      },
      "source": [
        ""
      ],
      "execution_count": null,
      "outputs": []
    },
    {
      "cell_type": "markdown",
      "metadata": {
        "id": "gE6t1fJeYEBB",
        "colab_type": "text"
      },
      "source": [
        "run the models with the optimal hyperparameter"
      ]
    },
    {
      "cell_type": "code",
      "metadata": {
        "id": "egLAAtR6Czhp",
        "colab_type": "code",
        "colab": {}
      },
      "source": [
        "regressors_2 = [\n",
        "              ('LGBM', LGBMRegressor(use_best_model = True, n_estimators=1000, random_state = 42, **best_lgb)),\n",
        "              ('XGB', XGBRegressor(n_estimators=1000, use_best_model =True, random_state = 42, **best_xgb)),\n",
        "            ]"
      ],
      "execution_count": null,
      "outputs": []
    },
    {
      "cell_type": "code",
      "metadata": {
        "id": "TtcqSElBC1QQ",
        "colab_type": "code",
        "colab": {
          "base_uri": "https://localhost:8080/",
          "height": 168
        },
        "outputId": "03ff41ec-f4d6-4870-bf29-c868d83930ec"
      },
      "source": [
        "f_2= {}\n",
        "for label, regressor in regressors_2:\n",
        "    \n",
        "    pipe_temp = train_fit(X_train, X_test, y_train, y_test)\n",
        "\n",
        "    print(label)\n",
        "    print(\"Test score: %.3f\" % rmse(y_test, pipe_temp.predict(X_test)))\n",
        "    print(\"Train score: %.3f\" % rmse(y_train, pipe_temp.predict(X_train)))\n",
        "    print()\n",
        "    f_2[label] = rmse(y_test, model.predict(X_test))"
      ],
      "execution_count": null,
      "outputs": [
        {
          "output_type": "stream",
          "text": [
            "LGBM\n",
            "Test score: 2321.992\n",
            "Train score: 2260.078\n",
            "\n",
            "[12:03:30] WARNING: /workspace/src/objective/regression_obj.cu:152: reg:linear is now deprecated in favor of reg:squarederror.\n",
            "XGB\n",
            "Test score: 2050.959\n",
            "Train score: 2007.944\n",
            "\n"
          ],
          "name": "stdout"
        }
      ]
    },
    {
      "cell_type": "markdown",
      "metadata": {
        "id": "3GRmbgtbHqGc",
        "colab_type": "text"
      },
      "source": [
        "pickle the XGBModel"
      ]
    },
    {
      "cell_type": "code",
      "metadata": {
        "id": "qJR8gCq0Da4B",
        "colab_type": "code",
        "colab": {}
      },
      "source": [
        "# filename = '/content/drive/My Drive/rossmann-store-sales/xgb_model.pkl'\n",
        "# pickle.dump(pipe_temp, open(filename, 'wb'))"
      ],
      "execution_count": null,
      "outputs": []
    },
    {
      "cell_type": "code",
      "metadata": {
        "id": "E8dU-qgUHwBN",
        "colab_type": "code",
        "colab": {
          "base_uri": "https://localhost:8080/",
          "height": 151
        },
        "outputId": "5fbe0f29-e792-427b-fd32-a2b127af6c79"
      },
      "source": [
        "regressors_2[1][1]"
      ],
      "execution_count": null,
      "outputs": [
        {
          "output_type": "execute_result",
          "data": {
            "text/plain": [
              "XGBRegressor(base_score=0.5, booster='gbtree', colsample_bylevel=1,\n",
              "             colsample_bynode=1, colsample_bytree=0.9140294253685348,\n",
              "             gamma=0.14545586998361132, importance_type='gain',\n",
              "             learning_rate=0.2678585631235746, max_delta_step=0, max_depth=8,\n",
              "             min_child_weight=1, missing=None, n_estimators=1000, n_jobs=1,\n",
              "             nthread=None, objective='reg:linear', random_state=42, reg_alpha=0,\n",
              "             reg_lambda=1, scale_pos_weight=1, seed=None, silent=None,\n",
              "             subsample=1, use_best_model=True, verbosity=1)"
            ]
          },
          "metadata": {
            "tags": []
          },
          "execution_count": 75
        }
      ]
    },
    {
      "cell_type": "markdown",
      "metadata": {
        "id": "nZmhmvCoYMBe",
        "colab_type": "text"
      },
      "source": [
        "Cross validation for the xgboost model"
      ]
    },
    {
      "cell_type": "code",
      "metadata": {
        "id": "diJHyhKyFISa",
        "colab_type": "code",
        "colab": {
          "base_uri": "https://localhost:8080/",
          "height": 386
        },
        "outputId": "8b4b155e-c61c-4eb2-c785-7c50b2198d4b"
      },
      "source": [
        "score = []\n",
        "y_pred_lgb = []\n",
        "\n",
        "#init model\n",
        "model = Pipeline(steps=[('preprocessor', preprocessor),\n",
        "                      ('regressor', regressors_2[1][1])])\n",
        "#set ts split\n",
        "fold= TimeSeriesSplit(10)\n",
        "for train_index, test_index in fold.split(X_train, y_train):\n",
        "\n",
        "  #obtain data in fold\n",
        "  X_t, X_val = X_train.iloc[train_index], X_train.iloc[test_index]\n",
        "  y_t, y_val = y_train.iloc[train_index], y_train.iloc[test_index]\n",
        "  \n",
        "  #model\n",
        "  pipe_temp = train_fit(X_t, X_val, y_t, y_val)\n",
        "\n",
        "  #make_prediction  \n",
        "  preds=pipe_temp.predict(X_val)\n",
        "\n",
        "  #calculate score and prediction\n",
        "  print(\"score: \",rmse(y_val,preds))\n",
        "  score.append(rmse(y_val,preds))\n",
        "  prob = pipe_temp.predict(X_test)\n",
        "  y_pred_lgb.append(prob)\n",
        "\n",
        "\n",
        "print('Interval: %.3f +/- %.3f' %(np.mean(score), 2*np.std(score)))\n",
        "print('ScORE ON HOLDOUT SET: %.3f' %(rmse(y_test, np.mean(y_pred_lgb,0))))"
      ],
      "execution_count": null,
      "outputs": [
        {
          "output_type": "stream",
          "text": [
            "[13:16:14] WARNING: /workspace/src/objective/regression_obj.cu:152: reg:linear is now deprecated in favor of reg:squarederror.\n",
            "score:  1151.4311904198948\n",
            "[13:17:58] WARNING: /workspace/src/objective/regression_obj.cu:152: reg:linear is now deprecated in favor of reg:squarederror.\n",
            "score:  2032.1252595749297\n",
            "[13:18:33] WARNING: /workspace/src/objective/regression_obj.cu:152: reg:linear is now deprecated in favor of reg:squarederror.\n",
            "score:  2211.472661155893\n",
            "[13:19:24] WARNING: /workspace/src/objective/regression_obj.cu:152: reg:linear is now deprecated in favor of reg:squarederror.\n",
            "score:  2954.4952939698837\n",
            "[13:20:39] WARNING: /workspace/src/objective/regression_obj.cu:152: reg:linear is now deprecated in favor of reg:squarederror.\n",
            "score:  1965.0025872419124\n",
            "[13:22:24] WARNING: /workspace/src/objective/regression_obj.cu:152: reg:linear is now deprecated in favor of reg:squarederror.\n",
            "score:  2101.62367347624\n",
            "[13:24:40] WARNING: /workspace/src/objective/regression_obj.cu:152: reg:linear is now deprecated in favor of reg:squarederror.\n",
            "score:  2165.5488350760693\n",
            "[13:27:22] WARNING: /workspace/src/objective/regression_obj.cu:152: reg:linear is now deprecated in favor of reg:squarederror.\n",
            "score:  2204.8736898915176\n",
            "[13:30:30] WARNING: /workspace/src/objective/regression_obj.cu:152: reg:linear is now deprecated in favor of reg:squarederror.\n",
            "score:  2437.249429606724\n",
            "[13:34:23] WARNING: /workspace/src/objective/regression_obj.cu:152: reg:linear is now deprecated in favor of reg:squarederror.\n",
            "score:  1558.3541235253786\n",
            "Interval: 2078.218 +/- 912.770\n",
            "ScORE ON HOLDOUT SET: 1976.790\n"
          ],
          "name": "stdout"
        }
      ]
    },
    {
      "cell_type": "markdown",
      "metadata": {
        "id": "_jMs9bOZZ4vv",
        "colab_type": "text"
      },
      "source": [
        "The confidence Interval of the prediction\n",
        "> Interval: 2078.218 +/- 912.770"
      ]
    },
    {
      "cell_type": "code",
      "metadata": {
        "id": "pr0TgYRugNLj",
        "colab_type": "code",
        "colab": {}
      },
      "source": [
        "imp = pd.DataFrame(regressors_2[1][1].feature_importance, index=X_train.columns, columns=['coef'])"
      ],
      "execution_count": null,
      "outputs": []
    },
    {
      "cell_type": "code",
      "metadata": {
        "id": "ux1kIBaUZGYM",
        "colab_type": "code",
        "colab": {}
      },
      "source": [
        "imp.sort_values(by = 'coef', ascending = False) ; imp"
      ],
      "execution_count": null,
      "outputs": []
    },
    {
      "cell_type": "code",
      "metadata": {
        "id": "vfKSmT0RMPUK",
        "colab_type": "code",
        "colab": {}
      },
      "source": [
        "##############Test pickle model##########"
      ],
      "execution_count": null,
      "outputs": []
    },
    {
      "cell_type": "code",
      "metadata": {
        "id": "ebKqcb1A8NP2",
        "colab_type": "code",
        "colab": {}
      },
      "source": [
        "class preprocess_data():\n",
        "\n",
        "  def __init__(self, X):\n",
        "    self.X = X\n",
        "\n",
        "  def list2df(self):\n",
        "    \n",
        "    cols = ['Store', 'DayofWeek', 'Date', 'Open', 'Promo', 'StateHoliday','SchoolHoliday']\n",
        "    self.X = np.array(self.X)\n",
        "    df = pd.DataFrame(self.X, columns= cols)\n",
        "    return df\n",
        "  \n",
        "  def feature_extraction(self):\n",
        "\n",
        "    cols = ['Store', 'DayOfWeek', 'Open', 'Promo', 'StateHoliday', 'SchoolHoliday',\n",
        "        'year', 'month', 'dow', 'doy', 'quarter', 'month_start', 'month_end',\n",
        "        'is_weekend', 'evenDays']\n",
        "        \n",
        "    self.X = list2df(self.X)\n",
        "    self.X['Date'] = pd.to_datetime(self.X['Date'])\n",
        "    self.X['year'] = self.X.Date.apply(lambda x: x.year )\n",
        "    self.X['month'] = self.X.Date.apply(lambda x: x.month)\n",
        "    self.X['dow'] = self.X.Date.apply(lambda x: x.dayofweek )\n",
        "    self.X['doy'] = self.X.Date.apply(lambda x: x.dayofyear )\n",
        "    self.X['quarter'] = self.X.Date.apply(lambda x: x.quarter )\n",
        "    self.X['month_start'] = self.X.Date.apply(lambda x: 1 if x.is_month_start else 0 )\n",
        "    self.X['month_end'] = self.X.Date.apply(lambda x: 1 if x.is_month_end else 0)\n",
        "    self.X['is_weekend'] = self.X.dow.apply(lambda x: 1 if x < 5 else 0)\n",
        "    self.X['dom'] = self.X.Date.apply(lambda x: x.day)\n",
        "    self.X['evenDays'] = self.X.dom.apply(lambda x: 0 if x%2 else 1)\n",
        "    self.X.drop(['dom','Date'], axis = 1, inplace = True)\n",
        "    self.X = pd.DataFrame(self.X.to_numpy(), columns=cols)\n",
        "\n",
        "    return self.X"
      ],
      "execution_count": null,
      "outputs": []
    },
    {
      "cell_type": "code",
      "metadata": {
        "id": "Il1l3FOuXAxx",
        "colab_type": "code",
        "colab": {}
      },
      "source": [
        "data = [200, 3, '2013-03-02',  1, 1, 'a', 1]"
      ],
      "execution_count": null,
      "outputs": []
    },
    {
      "cell_type": "code",
      "metadata": {
        "id": "Yebvz8wnLTEW",
        "colab_type": "code",
        "colab": {}
      },
      "source": [
        "P = preprocess_data(data)\n",
        "##data here is an example of what the user input will be"
      ],
      "execution_count": null,
      "outputs": []
    },
    {
      "cell_type": "code",
      "metadata": {
        "id": "oQ46JQRC-VR-",
        "colab_type": "code",
        "colab": {}
      },
      "source": [
        "d3 = P.feature_extraction()"
      ],
      "execution_count": null,
      "outputs": []
    },
    {
      "cell_type": "code",
      "metadata": {
        "id": "zd_c7-KN--C8",
        "colab_type": "code",
        "colab": {}
      },
      "source": [
        "def predict_data(data):\n",
        "  loaded_model = pickle.load(open(filename, 'rb'))\n",
        "  result = loaded_model.predict(data)\n",
        "  return ('The predicted sales is {}'.format(result))"
      ],
      "execution_count": null,
      "outputs": []
    },
    {
      "cell_type": "code",
      "metadata": {
        "id": "5_rRDvQxKntA",
        "colab_type": "code",
        "colab": {
          "base_uri": "https://localhost:8080/",
          "height": 52
        },
        "outputId": "587ac622-4f30-4d0d-bbbf-699220fe2af5"
      },
      "source": [
        "predict_data(d3)"
      ],
      "execution_count": null,
      "outputs": [
        {
          "output_type": "stream",
          "text": [
            "[17:18:39] WARNING: /workspace/src/objective/regression_obj.cu:152: reg:linear is now deprecated in favor of reg:squarederror.\n"
          ],
          "name": "stdout"
        },
        {
          "output_type": "execute_result",
          "data": {
            "application/vnd.google.colaboratory.intrinsic+json": {
              "type": "string"
            },
            "text/plain": [
              "'The predicted sales is [6439.0293]'"
            ]
          },
          "metadata": {
            "tags": []
          },
          "execution_count": 282
        }
      ]
    },
    {
      "cell_type": "code",
      "metadata": {
        "id": "yaJ0juwzZjIC",
        "colab_type": "code",
        "colab": {}
      },
      "source": [
        "#pip freeze > requirements.txt"
      ],
      "execution_count": null,
      "outputs": []
    }
  ]
}